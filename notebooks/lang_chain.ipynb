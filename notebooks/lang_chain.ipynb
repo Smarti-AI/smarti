{
 "cells": [
  {
   "cell_type": "markdown",
   "metadata": {},
   "source": [
    "### Basic LangChain\n",
    "Create a simple LLM"
   ]
  },
  {
   "cell_type": "code",
   "execution_count": 2,
   "metadata": {},
   "outputs": [
    {
     "name": "stdout",
     "output_type": "stream",
     "text": [
      "provide step by step solution to 2*3 + 4*5 \n",
      "\n",
      "Step 1: Calculate 2 * 3\n",
      "Answer: 6\n",
      "\n",
      "Step 2: Calculate 4 * 5\n",
      "Answer: 20\n",
      "\n",
      "Step 3: Add 6 + 20\n",
      "Answer: 26\n",
      "\n",
      "\n",
      "1. Codecademy: Codecademy is a great starting point for those new to programming and Python. It provides an interactive platform where you can learn Python basics, and practice writing code.\n",
      "\n",
      "2. Coursera: Coursera offers a variety of Python courses from top universities. With a combination of video lectures, quizzes, and projects, you can learn the fundamentals of Python programming. \n",
      "\n",
      "3. Google's Python Class: Google's Python Class is a free online course that covers the basics of Python. The course includes written materials, lecture videos, and exercises to practice coding.\n"
     ]
    }
   ],
   "source": [
    "import os\n",
    "from langchain.llms import OpenAI\n",
    "from langchain import PromptTemplate, LLMChain\n",
    "\n",
    "\n",
    "API_KEY = os.environ['OA_KEY']\n",
    "\n",
    "# simple call \n",
    "llm = OpenAI(model_name=\"text-davinci-003\", openai_api_key=API_KEY)\n",
    "question = \"provide step by step solution to 2*3 + 4*5\"\n",
    "print(question, llm(question))\n",
    "\n",
    "# basic prompt\n",
    "template = \"What are the top {n} resources to learn {language} programming?\"\n",
    "prompt = PromptTemplate(template=template,input_variables=['n','language'])\n",
    "chain = LLMChain(llm=llm,prompt=prompt)\n",
    "input = {'n':3,'language':'Python'}\n",
    "print(chain.run(input))\n"
   ]
  },
  {
   "cell_type": "code",
   "execution_count": 4,
   "metadata": {},
   "outputs": [
    {
     "name": "stdout",
     "output_type": "stream",
     "text": [
      "Well, multiplying two numbers means adding a number to itself many times. For example, if you have 3 multiplied by 2, it means you have to add 3 two times. So, 3 + 3 equals 6. That's how you multiply 3 and 2.\n"
     ]
    }
   ],
   "source": [
    "# import schema for chat messages and ChatOpenAI in order to query chatmodels GPT-3.5-turbo or GPT-4\n",
    "\n",
    "from langchain.schema import (\n",
    "    AIMessage,\n",
    "    HumanMessage,\n",
    "    SystemMessage\n",
    ")\n",
    "\n",
    "from langchain.chat_models import ChatOpenAI\n",
    "\n",
    "chat = ChatOpenAI(model_name=\"gpt-3.5-turbo\",temperature=0.3, openai_api_key=API_KEY)\n",
    "\n",
    "messages = [\n",
    "    SystemMessage(content=\"Explain to a 7 years old\"),\n",
    "    HumanMessage(content=\"How multiply two numbers\")\n",
    "]\n",
    "response=chat(messages)\n",
    "\n",
    "print(response.content,end='\\n')"
   ]
  }
 ],
 "metadata": {
  "kernelspec": {
   "display_name": "Python 3",
   "language": "python",
   "name": "python3"
  },
  "language_info": {
   "codemirror_mode": {
    "name": "ipython",
    "version": 3
   },
   "file_extension": ".py",
   "mimetype": "text/x-python",
   "name": "python",
   "nbconvert_exporter": "python",
   "pygments_lexer": "ipython3",
   "version": "3.9.14"
  },
  "orig_nbformat": 4
 },
 "nbformat": 4,
 "nbformat_minor": 2
}
